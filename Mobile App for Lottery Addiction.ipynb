{
 "cells": [
  {
   "cell_type": "markdown",
   "metadata": {},
   "source": [
    "# Lottery Addict Mobile App  \n",
    "The aim in this project is to support a team of engineers and developers, that are create a mobile app to discourage lottery addict, to define the logical core of the App.\n",
    "\n",
    "The app would be able to answer probalistic questions that should discourage gampling actvities. For example:\n",
    " * What is the probability of winning the big prize with a single ticket?\n",
    " * What is the probability of winning the big prize if we play 40 different tickets (or any other number)?\n",
    " * What is the probability of having at least five (or four, or three, or two) winning numbers on a single ticket?\n",
    "\n"
   ]
  },
  {
   "cell_type": "code",
   "execution_count": 82,
   "metadata": {},
   "outputs": [],
   "source": [
    "# to import the pandas and NumPy libraries\n",
    "import pandas as pd\n",
    "import numpy as np\n",
    "import matplotlib.pyplot as plt\n",
    "import seaborn as sns\n",
    "import math\n",
    "from decimal import Decimal\n",
    "\n",
    "\n",
    "# So notebook displays multiple outputs at the same time\n",
    "from IPython.core.interactiveshell import InteractiveShell\n",
    "InteractiveShell.ast_node_interactivity = \"all\"\n",
    "\n",
    "# Increase display output for rows and columns\n",
    "pd.options.display.max_rows = 4000\n",
    "pd.options.display.max_columns = 500"
   ]
  },
  {
   "cell_type": "code",
   "execution_count": 2,
   "metadata": {},
   "outputs": [],
   "source": [
    "# Write a function for factorial\n",
    "def factorial(n):\n",
    "    result = 1\n",
    "    for i in range(n, 0, -1):\n",
    "        result *= i\n",
    "    return result\n",
    "\n",
    "# Write a fuction for combinations\n",
    "def combination(n, k):\n",
    "    result = factorial(n)/(factorial(k)*factorial(n-k))\n",
    "    return result"
   ]
  },
  {
   "cell_type": "code",
   "execution_count": 3,
   "metadata": {},
   "outputs": [],
   "source": [
    "# write fuction that gives probability of wining the big prize with one ticket\n",
    "def one_ticket_probability(six_dig_lst):\n",
    "    total_outcomes = combination(49, 6)\n",
    "    prob_1_ticket = 1/total_outcomes\n",
    "    return print(\"Don't do it!!! You have less that a 1 in a Billion chance of wining the big price with {}.\".format((', '.join(map(str,six_dig_lst)))))"
   ]
  },
  {
   "cell_type": "code",
   "execution_count": 4,
   "metadata": {},
   "outputs": [
    {
     "name": "stdout",
     "output_type": "stream",
     "text": [
      "Don't do it!!! You have less that a 1 in a Billion chance of wining the big price with 17, 7, 25, 30, 14, 9.\n"
     ]
    }
   ],
   "source": [
    "# Test one_ticket _probability function\n",
    "one_ticket_probability([17,7,25,30,14,9])"
   ]
  },
  {
   "cell_type": "code",
   "execution_count": 5,
   "metadata": {},
   "outputs": [
    {
     "data": {
      "text/plain": [
       "7.151123842018516e-08"
      ]
     },
     "execution_count": 5,
     "metadata": {},
     "output_type": "execute_result"
    }
   ],
   "source": [
    "1/combination(49, 6)"
   ]
  },
  {
   "cell_type": "markdown",
   "metadata": {},
   "source": [
    "For everyone that tries to win the big price with one ticket, they only have a '7.151123842018516e-06' chance to winning. To make this value more comprehensible to a layman, it has been translated as 'less that a 1 in a billion chance of winning'."
   ]
  },
  {
   "cell_type": "code",
   "execution_count": 50,
   "metadata": {},
   "outputs": [
    {
     "data": {
      "text/plain": [
       "(3665, 11)"
      ]
     },
     "execution_count": 50,
     "metadata": {},
     "output_type": "execute_result"
    },
    {
     "data": {
      "text/html": [
       "<div>\n",
       "<style scoped>\n",
       "    .dataframe tbody tr th:only-of-type {\n",
       "        vertical-align: middle;\n",
       "    }\n",
       "\n",
       "    .dataframe tbody tr th {\n",
       "        vertical-align: top;\n",
       "    }\n",
       "\n",
       "    .dataframe thead th {\n",
       "        text-align: right;\n",
       "    }\n",
       "</style>\n",
       "<table border=\"1\" class=\"dataframe\">\n",
       "  <thead>\n",
       "    <tr style=\"text-align: right;\">\n",
       "      <th></th>\n",
       "      <th>PRODUCT</th>\n",
       "      <th>DRAW NUMBER</th>\n",
       "      <th>SEQUENCE NUMBER</th>\n",
       "      <th>DRAW DATE</th>\n",
       "      <th>NUMBER DRAWN 1</th>\n",
       "      <th>NUMBER DRAWN 2</th>\n",
       "      <th>NUMBER DRAWN 3</th>\n",
       "      <th>NUMBER DRAWN 4</th>\n",
       "      <th>NUMBER DRAWN 5</th>\n",
       "      <th>NUMBER DRAWN 6</th>\n",
       "      <th>BONUS NUMBER</th>\n",
       "    </tr>\n",
       "  </thead>\n",
       "  <tbody>\n",
       "    <tr>\n",
       "      <th>0</th>\n",
       "      <td>649</td>\n",
       "      <td>1</td>\n",
       "      <td>0</td>\n",
       "      <td>6/12/1982</td>\n",
       "      <td>3</td>\n",
       "      <td>11</td>\n",
       "      <td>12</td>\n",
       "      <td>14</td>\n",
       "      <td>41</td>\n",
       "      <td>43</td>\n",
       "      <td>13</td>\n",
       "    </tr>\n",
       "    <tr>\n",
       "      <th>1</th>\n",
       "      <td>649</td>\n",
       "      <td>2</td>\n",
       "      <td>0</td>\n",
       "      <td>6/19/1982</td>\n",
       "      <td>8</td>\n",
       "      <td>33</td>\n",
       "      <td>36</td>\n",
       "      <td>37</td>\n",
       "      <td>39</td>\n",
       "      <td>41</td>\n",
       "      <td>9</td>\n",
       "    </tr>\n",
       "    <tr>\n",
       "      <th>2</th>\n",
       "      <td>649</td>\n",
       "      <td>3</td>\n",
       "      <td>0</td>\n",
       "      <td>6/26/1982</td>\n",
       "      <td>1</td>\n",
       "      <td>6</td>\n",
       "      <td>23</td>\n",
       "      <td>24</td>\n",
       "      <td>27</td>\n",
       "      <td>39</td>\n",
       "      <td>34</td>\n",
       "    </tr>\n",
       "  </tbody>\n",
       "</table>\n",
       "</div>"
      ],
      "text/plain": [
       "   PRODUCT  DRAW NUMBER  SEQUENCE NUMBER  DRAW DATE  NUMBER DRAWN 1  \\\n",
       "0      649            1                0  6/12/1982               3   \n",
       "1      649            2                0  6/19/1982               8   \n",
       "2      649            3                0  6/26/1982               1   \n",
       "\n",
       "   NUMBER DRAWN 2  NUMBER DRAWN 3  NUMBER DRAWN 4  NUMBER DRAWN 5  \\\n",
       "0              11              12              14              41   \n",
       "1              33              36              37              39   \n",
       "2               6              23              24              27   \n",
       "\n",
       "   NUMBER DRAWN 6  BONUS NUMBER  \n",
       "0              43            13  \n",
       "1              41             9  \n",
       "2              39            34  "
      ]
     },
     "execution_count": 50,
     "metadata": {},
     "output_type": "execute_result"
    },
    {
     "data": {
      "text/html": [
       "<div>\n",
       "<style scoped>\n",
       "    .dataframe tbody tr th:only-of-type {\n",
       "        vertical-align: middle;\n",
       "    }\n",
       "\n",
       "    .dataframe tbody tr th {\n",
       "        vertical-align: top;\n",
       "    }\n",
       "\n",
       "    .dataframe thead th {\n",
       "        text-align: right;\n",
       "    }\n",
       "</style>\n",
       "<table border=\"1\" class=\"dataframe\">\n",
       "  <thead>\n",
       "    <tr style=\"text-align: right;\">\n",
       "      <th></th>\n",
       "      <th>PRODUCT</th>\n",
       "      <th>DRAW NUMBER</th>\n",
       "      <th>SEQUENCE NUMBER</th>\n",
       "      <th>DRAW DATE</th>\n",
       "      <th>NUMBER DRAWN 1</th>\n",
       "      <th>NUMBER DRAWN 2</th>\n",
       "      <th>NUMBER DRAWN 3</th>\n",
       "      <th>NUMBER DRAWN 4</th>\n",
       "      <th>NUMBER DRAWN 5</th>\n",
       "      <th>NUMBER DRAWN 6</th>\n",
       "      <th>BONUS NUMBER</th>\n",
       "    </tr>\n",
       "  </thead>\n",
       "  <tbody>\n",
       "    <tr>\n",
       "      <th>3662</th>\n",
       "      <td>649</td>\n",
       "      <td>3589</td>\n",
       "      <td>0</td>\n",
       "      <td>6/13/2018</td>\n",
       "      <td>6</td>\n",
       "      <td>22</td>\n",
       "      <td>24</td>\n",
       "      <td>31</td>\n",
       "      <td>32</td>\n",
       "      <td>34</td>\n",
       "      <td>16</td>\n",
       "    </tr>\n",
       "    <tr>\n",
       "      <th>3663</th>\n",
       "      <td>649</td>\n",
       "      <td>3590</td>\n",
       "      <td>0</td>\n",
       "      <td>6/16/2018</td>\n",
       "      <td>2</td>\n",
       "      <td>15</td>\n",
       "      <td>21</td>\n",
       "      <td>31</td>\n",
       "      <td>38</td>\n",
       "      <td>49</td>\n",
       "      <td>8</td>\n",
       "    </tr>\n",
       "    <tr>\n",
       "      <th>3664</th>\n",
       "      <td>649</td>\n",
       "      <td>3591</td>\n",
       "      <td>0</td>\n",
       "      <td>6/20/2018</td>\n",
       "      <td>14</td>\n",
       "      <td>24</td>\n",
       "      <td>31</td>\n",
       "      <td>35</td>\n",
       "      <td>37</td>\n",
       "      <td>48</td>\n",
       "      <td>17</td>\n",
       "    </tr>\n",
       "  </tbody>\n",
       "</table>\n",
       "</div>"
      ],
      "text/plain": [
       "      PRODUCT  DRAW NUMBER  SEQUENCE NUMBER  DRAW DATE  NUMBER DRAWN 1  \\\n",
       "3662      649         3589                0  6/13/2018               6   \n",
       "3663      649         3590                0  6/16/2018               2   \n",
       "3664      649         3591                0  6/20/2018              14   \n",
       "\n",
       "      NUMBER DRAWN 2  NUMBER DRAWN 3  NUMBER DRAWN 4  NUMBER DRAWN 5  \\\n",
       "3662              22              24              31              32   \n",
       "3663              15              21              31              38   \n",
       "3664              24              31              35              37   \n",
       "\n",
       "      NUMBER DRAWN 6  BONUS NUMBER  \n",
       "3662              34            16  \n",
       "3663              49             8  \n",
       "3664              48            17  "
      ]
     },
     "execution_count": 50,
     "metadata": {},
     "output_type": "execute_result"
    },
    {
     "data": {
      "text/plain": [
       "{3, 11, 12, 14, 41, 43}"
      ]
     },
     "execution_count": 50,
     "metadata": {},
     "output_type": "execute_result"
    }
   ],
   "source": [
    "# Read in csv data \n",
    "lottery_data = pd.read_csv('Downloads/Guided Project_ Mobile App for Lottery Addiction/649.csv', low_memory = False)\n",
    "lottery_data.shape\n",
    "lottery_data.head(3)\n",
    "lottery_data.tail(3)\n",
    "\n",
    "# set(lottery_data.iloc[:,4:10].head(1).values.tolist()[0])\n",
    "# set(lottery_data.iloc[0, 4:10].values.tolist())"
   ]
  },
  {
   "cell_type": "code",
   "execution_count": 56,
   "metadata": {},
   "outputs": [
    {
     "name": "stdout",
     "output_type": "stream",
     "text": [
      "Your numbers have won the big prize 1 time(s) in the past. Based on this, you have a 0.027285129604365622% to win the big prize\n"
     ]
    }
   ],
   "source": [
    "# Write a function named extract_numbers() that takes as input a row of the \n",
    "# lottery dataframe and returns a set containing all the six winning numbers.\n",
    "def extract_numbers(df):\n",
    "    result = set(df.iloc[4:10].values.tolist())\n",
    "    return result\n",
    "\n",
    "# Extract the winning sets from the historical data\n",
    "winning_sets = lottery_data.apply(extract_numbers, 1)\n",
    "\n",
    "# write fuction to check historical winning data for users' ticket set\n",
    "def check_historical_occurence(user_number_lst, historical_winning_sets):\n",
    "    user_set = set(user_number_lst)\n",
    "    boolean_check = winning_sets == user_set\n",
    "    match  = sum(boolean_check)\n",
    "    prob_win = match/len(historical_winning_sets)\n",
    "    perc_prob_win = prob_win*100\n",
    "    return print('Your numbers have won the big prize {} time(s) in the past. Based on this, you have a {}% to win the big prize'.format(match, perc_prob_win))\n",
    "\n",
    "# Test function using set that is among the historical winning set\n",
    "check_historical_occurence([41,3,11,12,43,14], winning_sets )\n",
    " "
   ]
  },
  {
   "cell_type": "code",
   "execution_count": 293,
   "metadata": {},
   "outputs": [],
   "source": [
    "def multi_ticket_probability(number_of_tickets):\n",
    "    total_outcomes = combination(49, 6)\n",
    "    prob_multi_tickets = number_of_tickets/total_outcomes\n",
    "    if prob_multi_tickets == 1:\n",
    "        exponent = int(math.log10(prob_multi_tickets))\n",
    "        tot_comparison = 10**abs(exponent)\n",
    "        value_comparison = \"{:.10f}\".format(float(prob_multi_tickets))[abs(exponent)]\n",
    "    else:  \n",
    "        exponent = int(math.log10(prob_multi_tickets))-1\n",
    "        tot_comparison = 10**abs(exponent)\n",
    "        value_comparison = \"{:.{}f}\".format(float(prob_multi_tickets),(abs(exponent)))[-1]\n",
    "        \n",
    "    return print(\"Don't do it!!! You have a {} in {} chance of wining the big price with these {} tickets.\"\n",
    "                 .format(value_comparison, tot_comparison, number_of_tickets))"
   ]
  },
  {
   "cell_type": "code",
   "execution_count": 294,
   "metadata": {},
   "outputs": [
    {
     "name": "stdout",
     "output_type": "stream",
     "text": [
      "Don't do it!!! You have a 1 in 1 chance of wining the big price with these 13983816 tickets.\n",
      "Don't do it!!! You have a 5 in 10 chance of wining the big price with these 6991908 tickets.\n",
      "Don't do it!!! You have a 7 in 100 chance of wining the big price with these 1000000 tickets.\n",
      "Don't do it!!! You have a 7 in 10000 chance of wining the big price with these 10000 tickets.\n",
      "Don't do it!!! You have a 7 in 1000000 chance of wining the big price with these 100 tickets.\n",
      "Don't do it!!! You have a 7 in 10000000 chance of wining the big price with these 10 tickets.\n",
      "Don't do it!!! You have a 7 in 100000000 chance of wining the big price with these 1 tickets.\n"
     ]
    }
   ],
   "source": [
    "multi_ticket_probability(13983816)\n",
    "multi_ticket_probability(6991908)\n",
    "multi_ticket_probability(1000000)\n",
    "multi_ticket_probability(10000)\n",
    "multi_ticket_probability(100)\n",
    "multi_ticket_probability(10)\n",
    "multi_ticket_probability(1)"
   ]
  },
  {
   "cell_type": "code",
   "execution_count": 252,
   "metadata": {},
   "outputs": [
    {
     "data": {
      "text/plain": [
       "6.0"
      ]
     },
     "execution_count": 252,
     "metadata": {},
     "output_type": "execute_result"
    }
   ],
   "source": [
    "combination(6,5)"
   ]
  },
  {
   "cell_type": "code",
   "execution_count": 318,
   "metadata": {},
   "outputs": [],
   "source": [
    "def possibility_less_6(n):\n",
    "    set_of_outcomes = combination(6, n)\n",
    "    choose = 6 - n\n",
    "    result = combination((43), choose) - 1\n",
    "    set_of_outcomes *= result\n",
    "    total_outcomes = combination(49,6)\n",
    "    answer = set_of_outcomes/total_outcomes\n",
    "    return answer       "
   ]
  },
  {
   "cell_type": "code",
   "execution_count": 319,
   "metadata": {},
   "outputs": [
    {
     "data": {
      "text/plain": [
       "0.13237695633294946"
      ]
     },
     "execution_count": 319,
     "metadata": {},
     "output_type": "execute_result"
    }
   ],
   "source": [
    "possibility_less_6(2)"
   ]
  },
  {
   "cell_type": "code",
   "execution_count": 315,
   "metadata": {},
   "outputs": [
    {
     "data": {
      "text/plain": [
       "0.0010608692219634468"
      ]
     },
     "execution_count": 315,
     "metadata": {},
     "output_type": "execute_result"
    }
   ],
   "source": [
    "((combination(45,2) -1) * combination(6, 4))/combination(49, 6)"
   ]
  },
  {
   "cell_type": "code",
   "execution_count": 316,
   "metadata": {},
   "outputs": [
    {
     "data": {
      "text/plain": [
       "14835.0"
      ]
     },
     "execution_count": 316,
     "metadata": {},
     "output_type": "execute_result"
    }
   ],
   "source": [
    "((combination(45,2) -1) * combination(6, 4))"
   ]
  },
  {
   "cell_type": "code",
   "execution_count": 317,
   "metadata": {},
   "outputs": [
    {
     "data": {
      "text/plain": [
       "13983816.0"
      ]
     },
     "execution_count": 317,
     "metadata": {},
     "output_type": "execute_result"
    }
   ],
   "source": [
    "combination(49, 6)"
   ]
  },
  {
   "cell_type": "code",
   "execution_count": null,
   "metadata": {},
   "outputs": [],
   "source": []
  }
 ],
 "metadata": {
  "kernelspec": {
   "display_name": "Python 3",
   "language": "python",
   "name": "python3"
  },
  "language_info": {
   "codemirror_mode": {
    "name": "ipython",
    "version": 3
   },
   "file_extension": ".py",
   "mimetype": "text/x-python",
   "name": "python",
   "nbconvert_exporter": "python",
   "pygments_lexer": "ipython3",
   "version": "3.7.1"
  }
 },
 "nbformat": 4,
 "nbformat_minor": 2
}
